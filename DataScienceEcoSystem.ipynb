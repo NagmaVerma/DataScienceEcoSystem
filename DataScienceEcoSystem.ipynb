{
 "cells": [
  {
   "cell_type": "markdown",
   "id": "ea9d7c6c",
   "metadata": {},
   "source": [
    "# Data Science Tools and Ecosystem"
   ]
  },
  {
   "cell_type": "markdown",
   "id": "b3a71b9b",
   "metadata": {},
   "source": [
    "***"
   ]
  },
  {
   "cell_type": "markdown",
   "id": "33292572",
   "metadata": {},
   "source": [
    "In this notebook, Data Science Tools and Ecosystem are summarized."
   ]
  },
  {
   "cell_type": "markdown",
   "id": "830ee2bc",
   "metadata": {},
   "source": [
    "**Objectives:**\n",
    "+ List some popular languages for Data Science\n",
    "+ List commanly used libraries for Data Science\n",
    "+ List Data Science tools in tabular form\n",
    "+ Evaluating arithmetic expressions\n"
   ]
  },
  {
   "cell_type": "markdown",
   "id": "cb52cbfb",
   "metadata": {},
   "source": [
    "Some of the popular languages that Data Scientists use are:\n",
    "1. Python\n",
    "1. SQL (Structured Query Language)\n",
    "1. R\n",
    "1. julia\n",
    "2. javascript\n",
    "2. Scala\n",
    "2. Java \n",
    "2. Go \n",
    "2. MATLAB\n",
    "2. C/C++\n",
    "2. Statistical Analytical System (SAS)"
   ]
  },
  {
   "cell_type": "markdown",
   "id": "54654c93",
   "metadata": {},
   "source": [
    "Some of the commonly used libraries used by Data Scientists include:\n",
    "1. TensorFlow\n",
    "2. NumPy\n",
    "2. SciPy \n",
    "2. Pandas\n",
    "2. Matplotlib \n",
    "2. Keras\n",
    "2. SciKit-Learn\n",
    "2. PyTorch\n",
    "2. Scrapy\n",
    "2. BeautifulSoup\n",
    "2. LightGBM\n",
    "2. ELI5\n",
    "2. Theano\n",
    "2. NuPIC\n",
    "2. Ramp\n",
    "2. Pipenv\n",
    "2. Bob\n",
    "2. PyBrain\n",
    "2. Caffe2\n",
    "2. Chainer"
   ]
  },
  {
   "cell_type": "markdown",
   "id": "55ddea0b",
   "metadata": {},
   "source": [
    "|Data Science Tools|\n",
    "|------------------|\n",
    "|RStudio|\n",
    "|Apache Spark|\n",
    "|Tensorflow|"
   ]
  },
  {
   "cell_type": "markdown",
   "id": "8ea9605e",
   "metadata": {},
   "source": [
    "### Below are a few examples of evaluating arithmetic expressions in Python"
   ]
  },
  {
   "cell_type": "code",
   "execution_count": 1,
   "id": "731a67b8",
   "metadata": {},
   "outputs": [
    {
     "data": {
      "text/plain": [
       "17"
      ]
     },
     "execution_count": 1,
     "metadata": {},
     "output_type": "execute_result"
    }
   ],
   "source": [
    "# This a simple arithmetic expression to mutiply then add integers\n",
    "(3*4)+5"
   ]
  },
  {
   "cell_type": "code",
   "execution_count": 5,
   "id": "228e655d",
   "metadata": {},
   "outputs": [
    {
     "data": {
      "text/plain": [
       "3.3333333333333335"
      ]
     },
     "execution_count": 5,
     "metadata": {},
     "output_type": "execute_result"
    }
   ],
   "source": [
    "# This will convert 200 minutes to hours by diving by 60\n",
    "200/60"
   ]
  },
  {
   "cell_type": "markdown",
   "id": "8fe99d1a",
   "metadata": {},
   "source": [
    "## Author\n",
    "Nagma Verma"
   ]
  },
  {
   "cell_type": "code",
   "execution_count": null,
   "id": "d6fdadb5",
   "metadata": {},
   "outputs": [],
   "source": []
  }
 ],
 "metadata": {
  "kernelspec": {
   "display_name": "Python 3 (ipykernel)",
   "language": "python",
   "name": "python3"
  },
  "language_info": {
   "codemirror_mode": {
    "name": "ipython",
    "version": 3
   },
   "file_extension": ".py",
   "mimetype": "text/x-python",
   "name": "python",
   "nbconvert_exporter": "python",
   "pygments_lexer": "ipython3",
   "version": "3.11.4"
  }
 },
 "nbformat": 4,
 "nbformat_minor": 5
}
